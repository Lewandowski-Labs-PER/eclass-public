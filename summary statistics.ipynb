{
 "cells": [
  {
   "cell_type": "code",
   "execution_count": 1,
   "metadata": {},
   "outputs": [],
   "source": [
    "%matplotlib inline\n",
    "import pandas as pd\n",
    "import matplotlib.pyplot as plt\n",
    "import numpy as np"
   ]
  },
  {
   "cell_type": "code",
   "execution_count": 2,
   "metadata": {},
   "outputs": [],
   "source": [
    "pre = pd.read_csv('anon_pre.csv')\n",
    "post = pd.read_csv('anon_post.csv')\n",
    "cis = pd.read_csv('anon_cis.csv')\n",
    "# matched = pre.set_index('anon_student_id').join(post.set_index('anon_student_id'), rsuffix='_post').dropna(subset=['q01a', 'q01a_post']).reset_index()\n",
    "# pre.set_index(['anon_student_id', 'ResponseId']).join(post.set_index(['anon_student_id', 'ResponseId']))\n",
    "\n",
    "# pre['anon_student_id'] = pre.anon_student_id.astype('category')\n",
    "# pre['ResponseId'] = pre.ResponseId.astype('category')\n",
    "\n",
    "# post['anon_student_id'] = post.anon_student_id.astype('category')\n",
    "# post['ResponseId'] = post.ResponseId.astype('category')\n",
    "\n",
    "matched = pre.merge(post, on=['anon_student_id', 'ResponseId'], suffixes=['_pre', '_post'])"
   ]
  },
  {
   "cell_type": "code",
   "execution_count": 7,
   "metadata": {},
   "outputs": [
    {
     "name": "stdout",
     "output_type": "stream",
     "text": [
      "----Overview----\n",
      "Total number of instances of the survey everywhere: 599\n",
      "Number of unique universities in data set: 133\n",
      "Number of unique instructors in data set: 204\n",
      "Number of unique students in data set (unmatched): 43080\n",
      "Number of unique students in data set (matched): 23005\n",
      "Number of instructors with repeated surveys: 100\n",
      "Number of universities with repeated surveys: 80\n",
      "\n",
      "\n",
      "Number of surveys with more student respondents than reported maximum registered students (PRE): 32\n",
      "Number of surveys with more student respondents than reported maximum registered students (POST): 17\n",
      "Number of surveys with more student respodnents than repored maximum registered students (MATCHED): 51\n",
      "Average fraction +\\- STDEV of course completing the PRE survey: 0.71 +/- 0.25\n",
      "Average +\\- STDEV fraction of course completing the POST survey: 0.58 +/- 0.25\n",
      "Average +\\- STDEV fraction of course completing the MATCHED survey: 0.49 +/- 0.27\n",
      "\n",
      "\n",
      "----Gender----\n",
      "Number of females in data set (unmatched): 11620\n",
      "Number of males in data set (unmatched): 16161\n",
      "Number of other in data set (unmatched): 312\n",
      "\n",
      "\n",
      "Number of females in data set (matched): 8361\n",
      "Number of males in data set (matched): 11876\n",
      "Number of other in data set (matched): 246\n",
      "\n",
      "\n",
      "----Race (unmatched)----\n",
      "American Indian or Alaska Native: 310.0\n",
      "Asian: 6588.0\n",
      "Black or African American: 2002.0\n",
      "Hispanic/Latino: 2601.0\n",
      "Native Hawaiian or other Pacific Islander: 275.0\n",
      "White: 16345.0\n",
      "Other race/ethnicity: 842.0\n",
      "More than one race: 2096\n",
      "\n",
      "\n",
      "----Race (matched)----\n",
      "American Indian or Alaska Native: 203.0\n",
      "Asian: 4973.0\n",
      "Black or African American: 1275.0\n",
      "Hispanic/Latino: 1846.0\n",
      "Native Hawaiian or other Pacific Islander: 176.0\n",
      "White: 11941.0\n",
      "Other race/ethnicity: 584.0\n",
      "More than one race: 1516\n",
      "Race Unknown: 1872\n",
      "\n",
      "\n",
      "----Course information----\n",
      "Number of times survey given to students in first year lab: 363\n",
      "Number of times survey given to students in BUFFY lab courses: 236\n",
      "Average +/- STDEV students in first year lab: 174.23 +/- 181.18\n",
      "Average +/- STDEV students in BUFFY lab courses: 41.19 +/- 90.23\n",
      "Algebra based intro courses: 141\n",
      "Calculus based intro courses: 222\n"
     ]
    }
   ],
   "source": [
    "print('----Overview----')\n",
    "print('Total number of instances of the survey everywhere:', cis.shape[0])\n",
    "print('Number of unique universities in data set:', cis.anon_university_id.nunique())\n",
    "\n",
    "print('Number of unique instructors in data set:', cis.anon_instructor_id.nunique())\n",
    "\n",
    "# this works becuase students were given anonymous IDs sequentially starting from 0\n",
    "print('Number of unique students in data set (unmatched):', post.anon_student_id.max())\n",
    "\n",
    "# this is checking if the students answered at least the first question of both pre and post and then calling that matched.\n",
    "print('Number of unique students in data set (matched):', matched.index.nunique())\n",
    "\n",
    "print('Number of instructors with repeated surveys:', cis.groupby('anon_instructor_id').count().groupby('Q5').count().Q52.iloc[1:].sum())\n",
    "\n",
    "print('Number of universities with repeated surveys:', cis.groupby('anon_university_id').count().groupby('Q5').count().Q52.iloc[1:].sum())\n",
    "\n",
    "print('\\n')\n",
    "pre_completion = pre.groupby('survey_id').count().anon_student_id.reset_index()\n",
    "pre_completion.columns = ['pre_survey_id', 'pre_cnt']\n",
    "post_completion = post.groupby('survey_id').count().anon_student_id.reset_index()\n",
    "post_completion.columns = ['post_survey_id', 'post_cnt']\n",
    "cisq19 = cis[['Q19', 'pre_survey_id', 'post_survey_id']]\n",
    "pre19 = cisq19.merge(pre_completion)\n",
    "post19 = cisq19.merge(post_completion)\n",
    "\n",
    "matched_cnt = pre.set_index('anon_student_id').join(post.set_index('anon_student_id'), rsuffix='_post').dropna(subset=['q01a', 'q01a_post']).groupby('survey_id').count().duration.reset_index()\n",
    "matched_cnt.columns = ['pre_survey_id', 'cnt']\n",
    "matched_cnt = cis.merge(matched_cnt)[['pre_survey_id', 'Q19', 'cnt']]\n",
    "\n",
    "\n",
    "print('Number of surveys with more student respondents than reported maximum registered students (PRE):', (pre19.pre_cnt/pre19.Q19).apply(lambda x: x if x > 1 else np.nan).dropna().shape[0])\n",
    "print('Number of surveys with more student respondents than reported maximum registered students (POST):', (post19.post_cnt/post19.Q19).apply(lambda x: x if x > 1 else np.nan).dropna().shape[0])\n",
    "\n",
    "print('Number of surveys with more student respodnents than repored maximum registered students (MATCHED):', (matched_cnt.cnt/matched_cnt.Q19).apply(lambda x: x if x > 1 else np.nan).dropna().shape[0])\n",
    "\n",
    "print('Average fraction +\\- STDEV of course completing the PRE survey:', round((pre19.pre_cnt/pre19.Q19).apply(lambda x: x if x <= 1 else np.nan).dropna().mean(), 2), '+/-', round((pre19.pre_cnt/pre19.Q19).apply(lambda x: x if x <= 1 else np.nan).dropna().std(), 2)\n",
    ")\n",
    "print('Average +\\- STDEV fraction of course completing the POST survey:', round((post19.post_cnt/post19.Q19).apply(lambda x: x if x <= 1 else np.nan).dropna().mean(), 2), '+/-', round((post19.post_cnt/post19.Q19).apply(lambda x: x if x <= 1 else np.nan).dropna().std(), 2))\n",
    "print('Average +\\- STDEV fraction of course completing the MATCHED survey:', round((matched_cnt.cnt/matched_cnt.Q19).apply(lambda x: x if x <= 1 else np.nan).dropna().mean(), 2), '+/-', round((matched_cnt.cnt/matched_cnt.Q19).apply(lambda x: x if x <= 1 else np.nan).dropna().std(), 2))\n",
    "\n",
    "print('\\n')\n",
    "\n",
    "print('----Gender----')\n",
    "# unmatched_gender = post.groupby('Q54').count().anon_student_id\n",
    "unmatched_gender = post[['anon_student_id', 'Q54']].drop_duplicates().groupby('Q54').count().anon_student_id\n",
    "print('Number of females in data set (unmatched):', unmatched_gender[1])\n",
    "print('Number of males in data set (unmatched):', unmatched_gender[2])\n",
    "print('Number of other in data set (unmatched):', unmatched_gender[3])\n",
    "print('\\n')\n",
    "\n",
    "# matched_gender = matched.groupby('Q54').count().anon_student_id\n",
    "matched_gender = matched[['anon_student_id', 'Q54']].drop_duplicates().groupby('Q54').count().anon_student_id\n",
    "print('Number of females in data set (matched):', matched_gender[1])\n",
    "print('Number of males in data set (matched):', matched_gender[2])\n",
    "print('Number of other in data set (matched):', matched_gender[3])\n",
    "print('\\n')\n",
    "\n",
    "\n",
    "print('----Race (unmatched)----')\n",
    "unmatched_race = post[['anon_student_id', 'Q52_1', 'Q52_2', 'Q52_3', 'Q52_4', 'Q52_5', 'Q52_6', 'Q52_7']].drop_duplicates()\n",
    "print('American Indian or Alaska Native:', unmatched_race.Q52_1.sum())\n",
    "print('Asian:', unmatched_race.Q52_2.sum())\n",
    "print('Black or African American:', unmatched_race.Q52_3.sum())\n",
    "print('Hispanic/Latino:', unmatched_race.Q52_4.sum())\n",
    "print('Native Hawaiian or other Pacific Islander:', unmatched_race.Q52_5.sum())\n",
    "print('White:', unmatched_race.Q52_6.sum())\n",
    "print('Other race/ethnicity:', unmatched_race.Q52_7.sum())\n",
    "s = unmatched_race[['Q52_1', 'Q52_2', 'Q52_3', 'Q52_4', 'Q52_5', 'Q52_6', 'Q52_7']].sum(axis=1)\n",
    "print('More than one race:', s.where(s > 1).count())\n",
    "print('\\n')\n",
    "\n",
    "print('----Race (matched)----')\n",
    "matched_race = matched[['anon_student_id', 'Q52_1', 'Q52_2', 'Q52_3', 'Q52_4', 'Q52_5', 'Q52_6', 'Q52_7', 'race_unknown']].drop_duplicates()\n",
    "print('American Indian or Alaska Native:', matched_race.Q52_1.sum())\n",
    "print('Asian:', matched_race.Q52_2.sum())\n",
    "print('Black or African American:', matched_race.Q52_3.sum())\n",
    "print('Hispanic/Latino:', matched_race.Q52_4.sum())\n",
    "print('Native Hawaiian or other Pacific Islander:', matched_race.Q52_5.sum())\n",
    "print('White:', matched_race.Q52_6.sum())\n",
    "print('Other race/ethnicity:', matched_race.Q52_7.sum())\n",
    "s = matched_race[['Q52_1', 'Q52_2', 'Q52_3', 'Q52_4', 'Q52_5', 'Q52_6', 'Q52_7']].sum(axis=1)\n",
    "print('More than one race:', s.where(s > 1).count())\n",
    "print('Race Unknown:', matched_race.race_unknown.sum())\n",
    "print('\\n')\n",
    "\n",
    "print('----Course information----')\n",
    "course_type = cis.groupby('Q18')\n",
    "\n",
    "print('Number of times survey given to students in first year lab:', course_type.count().Q5.loc['First year (introductory) lab'])\n",
    "print('Number of times survey given to students in BUFFY lab courses:', course_type.count().Q5.loc['Beyond the first year lab'])\n",
    "\n",
    "## haha, i guess its not a good assumption to think its normally distributed course enrollment numbers\n",
    "print('Average +/- STDEV students in first year lab:', course_type.mean().Q19.loc['First year (introductory) lab'].round(2), '+/-',course_type.std().Q19.loc['First year (introductory) lab'].round(2))\n",
    "print('Average +/- STDEV students in BUFFY lab courses:', course_type.mean().Q19.loc['Beyond the first year lab'].round(2), '+/-', course_type.std().Q19.loc['Beyond the first year lab'].round(2))\n",
    "\n",
    "course_type = cis.groupby('Q27')\n",
    "print('Algebra based intro courses:', course_type.count().Q5.loc['Algebra-based'])\n",
    "print('Calculus based intro courses:', course_type.count().Q5.loc['Calculus-based'])"
   ]
  },
  {
   "cell_type": "code",
   "execution_count": 4,
   "metadata": {},
   "outputs": [
    {
     "data": {
      "text/plain": [
       "0.49"
      ]
     },
     "execution_count": 4,
     "metadata": {},
     "output_type": "execute_result"
    }
   ],
   "source": [
    "matched_cnt = pre.set_index('anon_student_id').join(post.set_index('anon_student_id'), rsuffix='_post').dropna(subset=['q01a', 'q01a_post']).groupby('survey_id').count().duration.reset_index()\n",
    "matched_cnt.columns = ['pre_survey_id', 'cnt']\n",
    "matched_cnt = cis.merge(matched_cnt)[['pre_survey_id', 'Q19', 'cnt']]\n",
    "round((matched_cnt.cnt/matched_cnt.Q19).apply(lambda x: x if x <= 1 else np.nan).dropna().mean(), 2)"
   ]
  },
  {
   "cell_type": "code",
   "execution_count": 5,
   "metadata": {},
   "outputs": [
    {
     "data": {
      "text/plain": [
       "0.24913458710907008"
      ]
     },
     "execution_count": 5,
     "metadata": {},
     "output_type": "execute_result"
    }
   ],
   "source": [
    "pre_completion = pre.groupby('survey_id').count().anon_student_id.reset_index()\n",
    "pre_completion.columns = ['pre_survey_id', 'pre_cnt']\n",
    "post_completion = post.groupby('survey_id').count().anon_student_id.reset_index()\n",
    "post_completion.columns = ['post_survey_id', 'post_cnt']\n",
    "cisq19 = cis[['Q19', 'pre_survey_id', 'post_survey_id']]\n",
    "# cisq19.set_index('pre_survey_id').join(pre_completion.set_index('post_survey_id'))\n",
    "# cisq19.merge(pre_completion).merge(post_completion)\n",
    "pre19 = cisq19.merge(pre_completion)\n",
    "# (pre19.pre_cnt/pre19.Q19).apply(lambda x: x if x ==2 else np.nan).dropna()\n",
    "(pre19.pre_cnt/pre19.Q19).apply(lambda x: x if x <= 1 else np.nan).dropna().std()"
   ]
  },
  {
   "cell_type": "code",
   "execution_count": 6,
   "metadata": {},
   "outputs": [
    {
     "ename": "KeyError",
     "evalue": "'survey_id'",
     "output_type": "error",
     "traceback": [
      "\u001b[0;31m---------------------------------------------------------------------------\u001b[0m",
      "\u001b[0;31mKeyError\u001b[0m                                  Traceback (most recent call last)",
      "\u001b[0;32m<ipython-input-6-55b84891c446>\u001b[0m in \u001b[0;36m<module>\u001b[0;34m\u001b[0m\n\u001b[0;32m----> 1\u001b[0;31m \u001b[0mmatched\u001b[0m\u001b[0;34m.\u001b[0m\u001b[0mgroupby\u001b[0m\u001b[0;34m(\u001b[0m\u001b[0;34m'anon_student_id'\u001b[0m\u001b[0;34m)\u001b[0m\u001b[0;34m.\u001b[0m\u001b[0mcount\u001b[0m\u001b[0;34m(\u001b[0m\u001b[0;34m)\u001b[0m\u001b[0;34m.\u001b[0m\u001b[0msort_values\u001b[0m\u001b[0;34m(\u001b[0m\u001b[0;34m'survey_id'\u001b[0m\u001b[0;34m)\u001b[0m\u001b[0;34m\u001b[0m\u001b[0;34m\u001b[0m\u001b[0m\n\u001b[0m",
      "\u001b[0;32m~/anaconda3/envs/research/lib/python3.6/site-packages/pandas/core/frame.py\u001b[0m in \u001b[0;36msort_values\u001b[0;34m(self, by, axis, ascending, inplace, kind, na_position, ignore_index)\u001b[0m\n\u001b[1;32m   4925\u001b[0m \u001b[0;34m\u001b[0m\u001b[0m\n\u001b[1;32m   4926\u001b[0m             \u001b[0mby\u001b[0m \u001b[0;34m=\u001b[0m \u001b[0mby\u001b[0m\u001b[0;34m[\u001b[0m\u001b[0;36m0\u001b[0m\u001b[0;34m]\u001b[0m\u001b[0;34m\u001b[0m\u001b[0;34m\u001b[0m\u001b[0m\n\u001b[0;32m-> 4927\u001b[0;31m             \u001b[0mk\u001b[0m \u001b[0;34m=\u001b[0m \u001b[0mself\u001b[0m\u001b[0;34m.\u001b[0m\u001b[0m_get_label_or_level_values\u001b[0m\u001b[0;34m(\u001b[0m\u001b[0mby\u001b[0m\u001b[0;34m,\u001b[0m \u001b[0maxis\u001b[0m\u001b[0;34m=\u001b[0m\u001b[0maxis\u001b[0m\u001b[0;34m)\u001b[0m\u001b[0;34m\u001b[0m\u001b[0;34m\u001b[0m\u001b[0m\n\u001b[0m\u001b[1;32m   4928\u001b[0m \u001b[0;34m\u001b[0m\u001b[0m\n\u001b[1;32m   4929\u001b[0m             \u001b[0;32mif\u001b[0m \u001b[0misinstance\u001b[0m\u001b[0;34m(\u001b[0m\u001b[0mascending\u001b[0m\u001b[0;34m,\u001b[0m \u001b[0;34m(\u001b[0m\u001b[0mtuple\u001b[0m\u001b[0;34m,\u001b[0m \u001b[0mlist\u001b[0m\u001b[0;34m)\u001b[0m\u001b[0;34m)\u001b[0m\u001b[0;34m:\u001b[0m\u001b[0;34m\u001b[0m\u001b[0;34m\u001b[0m\u001b[0m\n",
      "\u001b[0;32m~/anaconda3/envs/research/lib/python3.6/site-packages/pandas/core/generic.py\u001b[0m in \u001b[0;36m_get_label_or_level_values\u001b[0;34m(self, key, axis)\u001b[0m\n\u001b[1;32m   1690\u001b[0m             \u001b[0mvalues\u001b[0m \u001b[0;34m=\u001b[0m \u001b[0mself\u001b[0m\u001b[0;34m.\u001b[0m\u001b[0maxes\u001b[0m\u001b[0;34m[\u001b[0m\u001b[0maxis\u001b[0m\u001b[0;34m]\u001b[0m\u001b[0;34m.\u001b[0m\u001b[0mget_level_values\u001b[0m\u001b[0;34m(\u001b[0m\u001b[0mkey\u001b[0m\u001b[0;34m)\u001b[0m\u001b[0;34m.\u001b[0m\u001b[0m_values\u001b[0m\u001b[0;34m\u001b[0m\u001b[0;34m\u001b[0m\u001b[0m\n\u001b[1;32m   1691\u001b[0m         \u001b[0;32melse\u001b[0m\u001b[0;34m:\u001b[0m\u001b[0;34m\u001b[0m\u001b[0;34m\u001b[0m\u001b[0m\n\u001b[0;32m-> 1692\u001b[0;31m             \u001b[0;32mraise\u001b[0m \u001b[0mKeyError\u001b[0m\u001b[0;34m(\u001b[0m\u001b[0mkey\u001b[0m\u001b[0;34m)\u001b[0m\u001b[0;34m\u001b[0m\u001b[0;34m\u001b[0m\u001b[0m\n\u001b[0m\u001b[1;32m   1693\u001b[0m \u001b[0;34m\u001b[0m\u001b[0m\n\u001b[1;32m   1694\u001b[0m         \u001b[0;31m# Check for duplicates\u001b[0m\u001b[0;34m\u001b[0m\u001b[0;34m\u001b[0m\u001b[0;34m\u001b[0m\u001b[0m\n",
      "\u001b[0;31mKeyError\u001b[0m: 'survey_id'"
     ]
    }
   ],
   "source": [
    "matched.groupby('anon_student_id').count().sort_values('survey_id')"
   ]
  },
  {
   "cell_type": "code",
   "execution_count": null,
   "metadata": {},
   "outputs": [],
   "source": [
    "matched[matched.anon_student_id==1950]"
   ]
  },
  {
   "cell_type": "code",
   "execution_count": null,
   "metadata": {},
   "outputs": [],
   "source": [
    "cis[cis.pre_survey_id=='3scq3Lugl5QdmER']"
   ]
  },
  {
   "cell_type": "code",
   "execution_count": null,
   "metadata": {},
   "outputs": [],
   "source": [
    "pre[pre.survey_id=='2iDeu0O3EPqxT4V'].anon_student_id"
   ]
  },
  {
   "cell_type": "code",
   "execution_count": null,
   "metadata": {},
   "outputs": [],
   "source": [
    "cis[cis.pre_survey_id=='2iDeu0O3EPqxT4V']"
   ]
  },
  {
   "cell_type": "code",
   "execution_count": null,
   "metadata": {},
   "outputs": [],
   "source": []
  },
  {
   "cell_type": "code",
   "execution_count": null,
   "metadata": {},
   "outputs": [],
   "source": [
    "pre19.loc[268]"
   ]
  },
  {
   "cell_type": "code",
   "execution_count": null,
   "metadata": {},
   "outputs": [],
   "source": [
    "cis[cis.pre_survey_id=='6FQgPIcTNGjmkSx']"
   ]
  },
  {
   "cell_type": "code",
   "execution_count": null,
   "metadata": {},
   "outputs": [],
   "source": [
    "pre[pre.survey_id=='6FQgPIcTNGjmkSx']"
   ]
  },
  {
   "cell_type": "code",
   "execution_count": null,
   "metadata": {},
   "outputs": [],
   "source": [
    "pre.shape"
   ]
  },
  {
   "cell_type": "code",
   "execution_count": null,
   "metadata": {},
   "outputs": [],
   "source": [
    "pre.drop_duplicates()"
   ]
  },
  {
   "cell_type": "code",
   "execution_count": null,
   "metadata": {},
   "outputs": [],
   "source": [
    "post.shape"
   ]
  },
  {
   "cell_type": "code",
   "execution_count": null,
   "metadata": {},
   "outputs": [],
   "source": [
    "post.drop_duplicates()"
   ]
  }
 ],
 "metadata": {
  "kernelspec": {
   "display_name": "Python 3",
   "language": "python",
   "name": "python3"
  },
  "language_info": {
   "codemirror_mode": {
    "name": "ipython",
    "version": 3
   },
   "file_extension": ".py",
   "mimetype": "text/x-python",
   "name": "python",
   "nbconvert_exporter": "python",
   "pygments_lexer": "ipython3",
   "version": "3.6.10"
  }
 },
 "nbformat": 4,
 "nbformat_minor": 4
}
